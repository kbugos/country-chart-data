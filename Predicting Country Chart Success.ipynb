{
 "cells": [
  {
   "cell_type": "markdown",
   "metadata": {},
   "source": [
    "## Business Problem"
   ]
  },
  {
   "cell_type": "markdown",
   "metadata": {},
   "source": [
    "Country radio is the most popular radio format in the U.S., with more than 2,100 stations across the country. The radio success of a single can have a major impact on a country artist’s overall success.\n",
    "\n",
    "As a Sony Nashville executive told [The Tennessean](https://www.tennessean.com/story/money/industries/music/2015/02/20/sony-nashville-ceo-talks-importance-country-radio/23768711/) in 2015, \"If you aren't on country radio, you don't exist. . . I can't think of one star, much less superstar in country music, who wasn't broken by country radio. It's just a fact. That's where the active audience is. That's where they go to listen to it. \"\n",
    "\n",
    "For a country artist, radio play is a make-or-break prospect. Being able to predict the success of a song on country radio would allow artists and their teams to choose songs with the best chances of success as singles, as well as be able to adjust their overall plans due to their understanding of what radio play they can expect.\n",
    "\n",
    "This project will analyze a number of features of country songs, with a goal of creating a model that will be able to predict the success of a single on the Billboard Country Airplay chart."
   ]
  },
  {
   "cell_type": "markdown",
   "metadata": {},
   "source": [
    "## Data Sources"
   ]
  },
  {
   "cell_type": "markdown",
   "metadata": {},
   "source": [
    "The data for this project comes from three sources:\n",
    "\n",
    "1. Billboard Country Airplay Chart data - five years worth of data.\n",
    "2. Spotify API - audio features data\n",
    "3. Manually coded gender and group versus solo artist"
   ]
  },
  {
   "cell_type": "markdown",
   "metadata": {},
   "source": [
    "## Packages"
   ]
  },
  {
   "cell_type": "code",
   "execution_count": 48,
   "metadata": {},
   "outputs": [],
   "source": [
    "import warnings\n",
    "warnings.filterwarnings('ignore')"
   ]
  },
  {
   "cell_type": "code",
   "execution_count": 49,
   "metadata": {},
   "outputs": [
    {
     "name": "stdout",
     "output_type": "stream",
     "text": [
      "Requirement already satisfied: billboard.py in /anaconda3/lib/python3.7/site-packages (5.2.3)\n",
      "Requirement already satisfied: beautifulsoup4>=4.4.1 in /anaconda3/lib/python3.7/site-packages (from billboard.py) (4.7.1)\n",
      "Requirement already satisfied: requests>=2.2.1 in /anaconda3/lib/python3.7/site-packages (from billboard.py) (2.22.0)\n",
      "Requirement already satisfied: soupsieve>=1.2 in /anaconda3/lib/python3.7/site-packages (from beautifulsoup4>=4.4.1->billboard.py) (1.9.2)\n",
      "Requirement already satisfied: certifi>=2017.4.17 in /anaconda3/lib/python3.7/site-packages (from requests>=2.2.1->billboard.py) (2019.6.16)\n",
      "Requirement already satisfied: idna<2.9,>=2.5 in /anaconda3/lib/python3.7/site-packages (from requests>=2.2.1->billboard.py) (2.8)\n",
      "Requirement already satisfied: chardet<3.1.0,>=3.0.2 in /anaconda3/lib/python3.7/site-packages (from requests>=2.2.1->billboard.py) (3.0.4)\n",
      "Requirement already satisfied: urllib3!=1.25.0,!=1.25.1,<1.26,>=1.21.1 in /anaconda3/lib/python3.7/site-packages (from requests>=2.2.1->billboard.py) (1.24.2)\n",
      "Note: you may need to restart the kernel to use updated packages.\n"
     ]
    }
   ],
   "source": [
    "pip install billboard.py"
   ]
  },
  {
   "cell_type": "code",
   "execution_count": 50,
   "metadata": {},
   "outputs": [
    {
     "name": "stdout",
     "output_type": "stream",
     "text": [
      "Requirement already satisfied: spotipy in /anaconda3/lib/python3.7/site-packages (2.4.4)\n",
      "Requirement already satisfied: requests>=1.0 in /anaconda3/lib/python3.7/site-packages (from spotipy) (2.22.0)\n",
      "Requirement already satisfied: idna<2.9,>=2.5 in /anaconda3/lib/python3.7/site-packages (from requests>=1.0->spotipy) (2.8)\n",
      "Requirement already satisfied: certifi>=2017.4.17 in /anaconda3/lib/python3.7/site-packages (from requests>=1.0->spotipy) (2019.6.16)\n",
      "Requirement already satisfied: urllib3!=1.25.0,!=1.25.1,<1.26,>=1.21.1 in /anaconda3/lib/python3.7/site-packages (from requests>=1.0->spotipy) (1.24.2)\n",
      "Requirement already satisfied: chardet<3.1.0,>=3.0.2 in /anaconda3/lib/python3.7/site-packages (from requests>=1.0->spotipy) (3.0.4)\n",
      "Note: you may need to restart the kernel to use updated packages.\n"
     ]
    }
   ],
   "source": [
    "pip install spotipy"
   ]
  },
  {
   "cell_type": "code",
   "execution_count": 51,
   "metadata": {},
   "outputs": [],
   "source": [
    "from credentials import *"
   ]
  },
  {
   "cell_type": "code",
   "execution_count": 52,
   "metadata": {},
   "outputs": [],
   "source": [
    "import numpy as np\n",
    "import pandas as pd\n",
    "import seaborn as sns\n",
    "import matplotlib.pyplot as plt\n",
    "import time\n",
    "import spotipy\n",
    "import billboard\n",
    "from spotipy.oauth2 import SpotifyClientCredentials\n",
    "\n",
    "client_credentials_manager = SpotifyClientCredentials(client_id=client_id, client_secret=client_secret)\n",
    "sp = spotipy.Spotify(client_credentials_manager=client_credentials_manager)"
   ]
  },
  {
   "cell_type": "code",
   "execution_count": 134,
   "metadata": {},
   "outputs": [],
   "source": [
    "from sklearn.preprocessing import StandardScaler\n",
    "from sklearn.model_selection import train_test_split\n",
    "from sklearn.model_selection import cross_val_score\n",
    "from sklearn import metrics\n",
    "from sklearn import model_selection\n",
    "from sklearn.metrics import mean_absolute_error\n",
    "from sklearn.tree import DecisionTreeRegressor, export_graphviz\n",
    "from sklearn.ensemble import RandomForestRegressor\n",
    "from sklearn.linear_model import LinearRegression\n",
    "from sklearn.model_selection import GridSearchCV"
   ]
  },
  {
   "cell_type": "markdown",
   "metadata": {},
   "source": [
    "## Data Import"
   ]
  },
  {
   "cell_type": "code",
   "execution_count": 54,
   "metadata": {},
   "outputs": [],
   "source": [
    "# Import Country Airplay chart from the week of September 28, 2019\n",
    "\n",
    "chart = billboard.ChartData('country-airplay', date='2019-09-28')"
   ]
  },
  {
   "cell_type": "code",
   "execution_count": 55,
   "metadata": {},
   "outputs": [
    {
     "data": {
      "text/plain": [
       "[billboard.ChartEntry(title='Living', artist='Dierks Bentley'),\n",
       " billboard.ChartEntry(title=\"I Don't Know About You\", artist='Chris Lane'),\n",
       " billboard.ChartEntry(title=\"Knockin' Boots\", artist='Luke Bryan'),\n",
       " billboard.ChartEntry(title='Southbound', artist='Carrie Underwood'),\n",
       " billboard.ChartEntry(title=\"The Ones That Didn't Make It Back Home\", artist='Justin Moore')]"
      ]
     },
     "execution_count": 55,
     "metadata": {},
     "output_type": "execute_result"
    }
   ],
   "source": [
    "#View first 5 chart entries\n",
    "\n",
    "chart.entries[0:5]"
   ]
  },
  {
   "cell_type": "code",
   "execution_count": 56,
   "metadata": {},
   "outputs": [],
   "source": [
    "# Create new dataframe for Billboard Chart Data\n",
    "\n",
    "chart_df = pd.DataFrame(columns=['song_title','artist','rank','date'])\n",
    "max_allowed = 312\n",
    "attempt = 0\n",
    "\n",
    "while chart.previousDate:\n",
    "    attempt +=1\n",
    "    #Stops running after 5 years worth of data\n",
    "    if attempt < max_allowed:\n",
    "        for i in range(0,60):\n",
    "            df = pd.DataFrame({'song_title':[chart[i].title], 'artist':[chart[i].artist], 'rank':[chart[i].rank], 'date':[chart.date]})\n",
    "            chart_df = chart_df.append(df, ignore_index=True)\n",
    "        #Sets chart date to previous week so it can pull in that week's data next\n",
    "        chart=billboard.ChartData('country-airplay', chart.previousDate)\n",
    "        #Sets a 5 second break between loops to prevent an error due to too many rapid requests\n",
    "        time.sleep(5)\n",
    "    else:\n",
    "        break\n",
    "    "
   ]
  },
  {
   "cell_type": "code",
   "execution_count": 57,
   "metadata": {},
   "outputs": [
    {
     "data": {
      "text/html": [
       "<div>\n",
       "<style scoped>\n",
       "    .dataframe tbody tr th:only-of-type {\n",
       "        vertical-align: middle;\n",
       "    }\n",
       "\n",
       "    .dataframe tbody tr th {\n",
       "        vertical-align: top;\n",
       "    }\n",
       "\n",
       "    .dataframe thead th {\n",
       "        text-align: right;\n",
       "    }\n",
       "</style>\n",
       "<table border=\"1\" class=\"dataframe\">\n",
       "  <thead>\n",
       "    <tr style=\"text-align: right;\">\n",
       "      <th></th>\n",
       "      <th>song_title</th>\n",
       "      <th>artist</th>\n",
       "      <th>rank</th>\n",
       "      <th>date</th>\n",
       "    </tr>\n",
       "  </thead>\n",
       "  <tbody>\n",
       "    <tr>\n",
       "      <th>0</th>\n",
       "      <td>Living</td>\n",
       "      <td>Dierks Bentley</td>\n",
       "      <td>1</td>\n",
       "      <td>2019-09-28</td>\n",
       "    </tr>\n",
       "    <tr>\n",
       "      <th>1</th>\n",
       "      <td>I Don't Know About You</td>\n",
       "      <td>Chris Lane</td>\n",
       "      <td>2</td>\n",
       "      <td>2019-09-28</td>\n",
       "    </tr>\n",
       "    <tr>\n",
       "      <th>2</th>\n",
       "      <td>Knockin' Boots</td>\n",
       "      <td>Luke Bryan</td>\n",
       "      <td>3</td>\n",
       "      <td>2019-09-28</td>\n",
       "    </tr>\n",
       "    <tr>\n",
       "      <th>3</th>\n",
       "      <td>Southbound</td>\n",
       "      <td>Carrie Underwood</td>\n",
       "      <td>4</td>\n",
       "      <td>2019-09-28</td>\n",
       "    </tr>\n",
       "    <tr>\n",
       "      <th>4</th>\n",
       "      <td>The Ones That Didn't Make It Back Home</td>\n",
       "      <td>Justin Moore</td>\n",
       "      <td>5</td>\n",
       "      <td>2019-09-28</td>\n",
       "    </tr>\n",
       "  </tbody>\n",
       "</table>\n",
       "</div>"
      ],
      "text/plain": [
       "                               song_title            artist rank        date\n",
       "0                                  Living    Dierks Bentley    1  2019-09-28\n",
       "1                  I Don't Know About You        Chris Lane    2  2019-09-28\n",
       "2                          Knockin' Boots        Luke Bryan    3  2019-09-28\n",
       "3                              Southbound  Carrie Underwood    4  2019-09-28\n",
       "4  The Ones That Didn't Make It Back Home      Justin Moore    5  2019-09-28"
      ]
     },
     "execution_count": 57,
     "metadata": {},
     "output_type": "execute_result"
    }
   ],
   "source": [
    "chart_df.head()"
   ]
  },
  {
   "cell_type": "code",
   "execution_count": 58,
   "metadata": {},
   "outputs": [
    {
     "data": {
      "text/html": [
       "<div>\n",
       "<style scoped>\n",
       "    .dataframe tbody tr th:only-of-type {\n",
       "        vertical-align: middle;\n",
       "    }\n",
       "\n",
       "    .dataframe tbody tr th {\n",
       "        vertical-align: top;\n",
       "    }\n",
       "\n",
       "    .dataframe thead th {\n",
       "        text-align: right;\n",
       "    }\n",
       "</style>\n",
       "<table border=\"1\" class=\"dataframe\">\n",
       "  <thead>\n",
       "    <tr style=\"text-align: right;\">\n",
       "      <th></th>\n",
       "      <th>song_title</th>\n",
       "      <th>artist</th>\n",
       "      <th>rank</th>\n",
       "      <th>date</th>\n",
       "    </tr>\n",
       "  </thead>\n",
       "  <tbody>\n",
       "    <tr>\n",
       "      <th>count</th>\n",
       "      <td>18660</td>\n",
       "      <td>18660</td>\n",
       "      <td>18660</td>\n",
       "      <td>18660</td>\n",
       "    </tr>\n",
       "    <tr>\n",
       "      <th>unique</th>\n",
       "      <td>869</td>\n",
       "      <td>295</td>\n",
       "      <td>60</td>\n",
       "      <td>311</td>\n",
       "    </tr>\n",
       "    <tr>\n",
       "      <th>top</th>\n",
       "      <td>Every Little Thing</td>\n",
       "      <td>Thomas Rhett</td>\n",
       "      <td>60</td>\n",
       "      <td>2014-11-29</td>\n",
       "    </tr>\n",
       "    <tr>\n",
       "      <th>freq</th>\n",
       "      <td>78</td>\n",
       "      <td>296</td>\n",
       "      <td>311</td>\n",
       "      <td>60</td>\n",
       "    </tr>\n",
       "  </tbody>\n",
       "</table>\n",
       "</div>"
      ],
      "text/plain": [
       "                song_title        artist   rank        date\n",
       "count                18660         18660  18660       18660\n",
       "unique                 869           295     60         311\n",
       "top     Every Little Thing  Thomas Rhett     60  2014-11-29\n",
       "freq                    78           296    311          60"
      ]
     },
     "execution_count": 58,
     "metadata": {},
     "output_type": "execute_result"
    }
   ],
   "source": [
    "# Summary statistics\n",
    "\n",
    "chart_df.describe()"
   ]
  },
  {
   "cell_type": "code",
   "execution_count": 59,
   "metadata": {},
   "outputs": [],
   "source": [
    "# Drop duplicates, keeping only the highest ranking week for each song\n",
    "\n",
    "chart_df = chart_df.sort_values(by='rank', ascending=True).drop_duplicates(subset='song_title')"
   ]
  },
  {
   "cell_type": "code",
   "execution_count": 60,
   "metadata": {},
   "outputs": [],
   "source": [
    "# Reset index after dropping rows\n",
    "chart_df.reset_index(drop=True, inplace=True)"
   ]
  },
  {
   "cell_type": "code",
   "execution_count": 61,
   "metadata": {},
   "outputs": [],
   "source": [
    "# Clean artist names to allow songs to match with Spotify data\n",
    "\n",
    "for i in range(len(chart_df)-1):\n",
    "    if 'Featuring' in chart_df.artist[i]:\n",
    "        chart_df.artist[i]=chart_df.artist[i].split(\"Featuring\", maxsplit=1)[0]\n",
    "    if 'With' in chart_df.artist[i]:\n",
    "        chart_df.artist[i]=chart_df.artist[i].split(\"With\", maxsplit=1)[0]\n",
    "    if 'Duet' in chart_df.artist[i]:\n",
    "        chart_df.artist[i]=chart_df.artist[i].split(\"Duet\", maxsplit=1)[0]\n",
    "    if ',' in chart_df.artist[i]:\n",
    "        chart_df.artist[i]=chart_df.artist[i].split(\",\", maxsplit=1)[0]\n",
    "    if '+' in chart_df.artist[i]:\n",
    "        chart_df.artist[i]=chart_df.artist[i].split(\",\", maxsplit=1)[0]\n",
    "    if  chart_df.artist[i]=='David Lee Murphy & Kenny Chesney':\n",
    "        chart_df.artist[i]='David Lee Murphy'\n",
    "    if  chart_df.artist[i]=='Tim McGraw & Faith Hill':\n",
    "        chart_df.artist[i]='Tim McGraw'\n",
    "    if  chart_df.artist[i]=='Jerrod Niemann & Lee Brice':\n",
    "        chart_df.artist[i]='Jerrod Niemann'\n",
    "    if  chart_df.artist[i]=='Reba McEntire & Lauren Daigle':\n",
    "        chart_df.artist[i]='Reba McEntire'\n",
    "    if  chart_df.artist[i]=='Bebe Rexha & Florida Georgia Line':\n",
    "        chart_df.artist[i]='Bebe Rexha'\n",
    "    if  chart_df.artist[i]=='Garth Brooks & Blake Shelton':\n",
    "        chart_df.artist[i]='Garth Brooks'\n",
    "    if  chart_df.artist[i]=='Willie Robertson & Luke Bryan':\n",
    "        chart_df.artist[i]='Willie Robertson'"
   ]
  },
  {
   "cell_type": "code",
   "execution_count": 62,
   "metadata": {},
   "outputs": [],
   "source": [
    "# Remove songs not on Spotify\n",
    "\n",
    "chart_df = chart_df[chart_df.artist != 'Garth Brooks']\n",
    "chart_df = chart_df[chart_df.artist != 'Tucker Beathard']\n",
    "chart_df = chart_df[chart_df.artist != 'Candi Carpenter']\n",
    "chart_df = chart_df[chart_df.song_title != 'A Few More Cowboys']\n",
    "chart_df = chart_df[chart_df.song_title != 'PrizeFighter']\n",
    "chart_df = chart_df[chart_df.song_title != 'Just Another Love Song']\n",
    "chart_df = chart_df[chart_df.song_title != 'One Night Between Friends']\n",
    "chart_df = chart_df[chart_df.song_title != 'Santa Baby']"
   ]
  },
  {
   "cell_type": "code",
   "execution_count": 63,
   "metadata": {},
   "outputs": [],
   "source": [
    "# Reset index after dropping rows\n",
    "chart_df.reset_index(drop=True, inplace=True)"
   ]
  },
  {
   "cell_type": "code",
   "execution_count": 64,
   "metadata": {},
   "outputs": [],
   "source": [
    "# Create five blank lists\n",
    "# Then append to them using the results from the Spotify search of the songs in the Billboard chart dataframe\n",
    "# Create a none counter to identify every time the search fails to return any results\n",
    "\n",
    "artist_name=[]\n",
    "track_name=[]\n",
    "track_id=[]\n",
    "popularity=[]\n",
    "rank=[]\n",
    "None_counter=0\n",
    "\n",
    "for i in range(len(chart_df)-1):\n",
    "    track_results = sp.search(q=('artist:' + chart_df.artist[i] + ' track: ' + chart_df.song_title[i]), limit=1, type='track')\n",
    "    if track_results['tracks']['items']!=[]:\n",
    "        rank.append(chart_df['rank'][i])\n",
    "        for i, t in enumerate(track_results['tracks']['items']):\n",
    "            if t == None:\n",
    "                None_counter = None_counter + 1\n",
    "            else:\n",
    "                artist_name.append(t['artists'][0]['name'])\n",
    "                track_name.append(t['name'])\n",
    "                track_id.append(t['id'])\n",
    "                popularity.append(t['popularity'])"
   ]
  },
  {
   "cell_type": "code",
   "execution_count": 65,
   "metadata": {},
   "outputs": [
    {
     "name": "stdout",
     "output_type": "stream",
     "text": [
      "(812, 5)\n"
     ]
    },
    {
     "data": {
      "text/html": [
       "<div>\n",
       "<style scoped>\n",
       "    .dataframe tbody tr th:only-of-type {\n",
       "        vertical-align: middle;\n",
       "    }\n",
       "\n",
       "    .dataframe tbody tr th {\n",
       "        vertical-align: top;\n",
       "    }\n",
       "\n",
       "    .dataframe thead th {\n",
       "        text-align: right;\n",
       "    }\n",
       "</style>\n",
       "<table border=\"1\" class=\"dataframe\">\n",
       "  <thead>\n",
       "    <tr style=\"text-align: right;\">\n",
       "      <th></th>\n",
       "      <th>artist_name</th>\n",
       "      <th>track_name</th>\n",
       "      <th>track_id</th>\n",
       "      <th>popularity</th>\n",
       "      <th>rank</th>\n",
       "    </tr>\n",
       "  </thead>\n",
       "  <tbody>\n",
       "    <tr>\n",
       "      <th>0</th>\n",
       "      <td>Dierks Bentley</td>\n",
       "      <td>Living</td>\n",
       "      <td>54K7AZoGpQklpygKrxZlKN</td>\n",
       "      <td>76</td>\n",
       "      <td>1</td>\n",
       "    </tr>\n",
       "    <tr>\n",
       "      <th>1</th>\n",
       "      <td>Luke Bryan</td>\n",
       "      <td>Sunrise, Sunburn, Sunset</td>\n",
       "      <td>53yTYusPQJ1AApL1hi0Dnc</td>\n",
       "      <td>70</td>\n",
       "      <td>1</td>\n",
       "    </tr>\n",
       "    <tr>\n",
       "      <th>2</th>\n",
       "      <td>Jason Aldean</td>\n",
       "      <td>Burnin' It Down</td>\n",
       "      <td>5HJqpDspKDKwQpLjvkcIsD</td>\n",
       "      <td>66</td>\n",
       "      <td>1</td>\n",
       "    </tr>\n",
       "    <tr>\n",
       "      <th>3</th>\n",
       "      <td>Sam Hunt</td>\n",
       "      <td>Leave The Night On</td>\n",
       "      <td>3wx2kQWPn9p5UppQbNhPAk</td>\n",
       "      <td>67</td>\n",
       "      <td>1</td>\n",
       "    </tr>\n",
       "    <tr>\n",
       "      <th>4</th>\n",
       "      <td>Thomas Rhett</td>\n",
       "      <td>Life Changes</td>\n",
       "      <td>4Vxu50qVrQcycjRyJQaZLC</td>\n",
       "      <td>71</td>\n",
       "      <td>1</td>\n",
       "    </tr>\n",
       "  </tbody>\n",
       "</table>\n",
       "</div>"
      ],
      "text/plain": [
       "      artist_name                track_name                track_id  \\\n",
       "0  Dierks Bentley                    Living  54K7AZoGpQklpygKrxZlKN   \n",
       "1      Luke Bryan  Sunrise, Sunburn, Sunset  53yTYusPQJ1AApL1hi0Dnc   \n",
       "2    Jason Aldean           Burnin' It Down  5HJqpDspKDKwQpLjvkcIsD   \n",
       "3        Sam Hunt        Leave The Night On  3wx2kQWPn9p5UppQbNhPAk   \n",
       "4    Thomas Rhett              Life Changes  4Vxu50qVrQcycjRyJQaZLC   \n",
       "\n",
       "   popularity  rank  \n",
       "0          76     1  \n",
       "1          70     1  \n",
       "2          66     1  \n",
       "3          67     1  \n",
       "4          71     1  "
      ]
     },
     "execution_count": 65,
     "metadata": {},
     "output_type": "execute_result"
    }
   ],
   "source": [
    "# Create a dataframe from the five lists\n",
    "\n",
    "spotify_df = pd.DataFrame({'artist_name':artist_name,'track_name':track_name,'track_id':track_id,'popularity':popularity,'rank':rank})\n",
    "print(spotify_df.shape)\n",
    "spotify_df.head()"
   ]
  },
  {
   "cell_type": "code",
   "execution_count": 66,
   "metadata": {},
   "outputs": [],
   "source": [
    "# Create an empty dataframe, then fill with audio features accessed from the Spotify API\n",
    "\n",
    "audio_features_df = pd.DataFrame(columns = ['danceability', 'energy', 'key', 'loudness', 'mode', 'speechiness', 'acousticness', 'instrumentalness', 'liveness', 'valence', 'tempo','type', 'id', 'uri', 'track_href', 'analysis_url', 'duration_ms', 'time_signature'])\n",
    "\n",
    "for i in range(len(spotify_df)-1):\n",
    "    audio_features_df = audio_features_df.append(sp.audio_features(tracks=[spotify_df.track_id[i]]))"
   ]
  },
  {
   "cell_type": "code",
   "execution_count": 67,
   "metadata": {},
   "outputs": [],
   "source": [
    "# Merge audio features dataframe with basic Spotify dataframe\n",
    "\n",
    "track_df = audio_features_df.merge(spotify_df, left_on='id', right_on='track_id')"
   ]
  },
  {
   "cell_type": "code",
   "execution_count": 68,
   "metadata": {},
   "outputs": [],
   "source": [
    "column_order = ['track_id',\n",
    "'artist_name',\n",
    "'track_name',\n",
    "'rank',\n",
    "'danceability',\n",
    "'energy',\n",
    "'key',\n",
    "'loudness',\n",
    "'mode',\n",
    "'speechiness',\n",
    "'acousticness',\n",
    "'instrumentalness',\n",
    "'liveness',\n",
    "'valence',\n",
    "'tempo',\n",
    "'duration_ms',\n",
    "'time_signature']"
   ]
  },
  {
   "cell_type": "code",
   "execution_count": 69,
   "metadata": {},
   "outputs": [],
   "source": [
    "# Reorder columns\n",
    "\n",
    "track_df = track_df.reindex(columns=column_order)"
   ]
  },
  {
   "cell_type": "code",
   "execution_count": 70,
   "metadata": {},
   "outputs": [],
   "source": [
    "# Manually create a list of duos/groups\n",
    "\n",
    "groups=['Maddie & Tae',\n",
    " 'Old Dominion',\n",
    " 'Florida Georgia Line',\n",
    " 'Lady Antebellum',\n",
    " 'Zac Brown Band',\n",
    " 'Dan + Shay',\n",
    " 'Eli Young Band',\n",
    " 'Parmalee',\n",
    " 'Rascal Flatts',\n",
    " 'Little Big Town',\n",
    " 'LANCO',\n",
    " 'A Thousand Horses',\n",
    " 'LOCASH',\n",
    " 'Brothers Osborne',\n",
    " 'Midland',\n",
    " 'Thompson Square',\n",
    " 'High Valley',\n",
    " 'Big & Rich',\n",
    " 'Runaway June',\n",
    " 'The Band Perry',\n",
    " 'The Swon Brothers',\n",
    " 'Sugarland',\n",
    " 'Gloriana',\n",
    " 'Artists Of Then, Now & Forever',\n",
    " 'The Cadillac Three',\n",
    " 'Love and Theft',\n",
    " 'The Henningsens',\n",
    " 'Josh Abbott Band',\n",
    " 'Montgomery Gentry',\n",
    " 'Brooks & Dunn',\n",
    " 'Gone West',\n",
    " 'American Young',\n",
    " \"Chasin' Crazy\",\n",
    " 'The Railers',\n",
    " 'James Barker Band',\n",
    " 'Radio Romance',\n",
    " 'The Last Bandoleros',\n",
    " 'King Calaway',\n",
    " 'Waterloo Revival',\n",
    " 'Pistol Annies',\n",
    " 'Breaking Southwest',\n",
    " 'Sir Rosevelt',\n",
    " 'Everette',\n",
    " 'Blackjack Billy',\n",
    " 'Sister C',\n",
    " 'Bobby Bones & The Raging Idiots']"
   ]
  },
  {
   "cell_type": "code",
   "execution_count": 71,
   "metadata": {},
   "outputs": [],
   "source": [
    "# Manually create a list of artist that are female (solo or group) and mixed gender groups.\n",
    "\n",
    "female=['Maddie & Tae', \n",
    " 'Bebe Rexha', \n",
    " 'Maren Morris', \n",
    " 'Lauren Alaina', \n",
    " 'Kelsea Ballerini', \n",
    " 'Carrie Underwood', \n",
    " 'Carly Pearce', \n",
    " 'Cam', \n",
    " 'Miranda Lambert', \n",
    " 'Jana Kramer', \n",
    " 'Taylor Swift', \n",
    " 'Cassadee Pope', \n",
    " 'Danielle Bradberry', \n",
    " 'RaeLynn',\n",
    " 'Sara Evans',\n",
    " 'Lindsay Ell',\n",
    " 'Trisha Yearwood',\n",
    " 'Jennifer Nettles',\n",
    " 'Ingrid Andress',\n",
    " 'Sheryl Crow',\n",
    " 'Reba McEntire'\n",
    " 'Ashley McBryde',\n",
    " 'Kacey Musgraves',\n",
    " 'Mickey Guyton',\n",
    " 'Shania Twain',\n",
    " 'Leah Turner',\n",
    " 'Brandy Clark',\n",
    " 'Caylee Hammack',\n",
    " 'Natalie Stovall',\n",
    " 'Clare Dunn',\n",
    " 'Maggie Rose',\n",
    " 'Martina McBride',\n",
    " 'Lucy Hale',\n",
    " 'Brooke Eden',\n",
    " 'Kelleigh Bannen',\n",
    " 'Kellie Pickler',\n",
    " 'Kelly Clarkson',\n",
    " 'Pistol Annies',\n",
    " 'Lucy Angel',\n",
    " 'P!nk',\n",
    " 'Ashley Monroe',\n",
    " 'Jillian Jacqueline',\n",
    " 'Gabby Barrett',\n",
    " 'Caroline Jones',\n",
    " 'Rachel Wammack',\n",
    " 'Jamie Lynn Spears',\n",
    " 'Ashley Campbell',\n",
    " 'Stephanie Quayle',\n",
    " 'Shakira',\n",
    " 'Kristy Lee Cook',\n",
    " 'Abby Anderson',\n",
    " 'LeAnn Rimes',\n",
    " 'Bailey Bryan',\n",
    " 'Sister C',\n",
    " 'Tara Thompson',\n",
    " 'Runaway June']\n",
    "\n",
    "mixed=['Lady Antebellum',\n",
    " 'Little Big Town',\n",
    " 'Thompson Square',\n",
    " 'The Band Perry',\n",
    " 'Sugarland',\n",
    " 'Gloriana',\n",
    " 'The Henningsens',\n",
    " 'Gone West',\n",
    " 'American Young',\n",
    " 'The Railers',\n",
    " 'Breaking Southwest',\n",
    " 'Artists Of Then, Now & Forever']"
   ]
  },
  {
   "cell_type": "code",
   "execution_count": 72,
   "metadata": {},
   "outputs": [],
   "source": [
    "# Create an is_group column using the list created above\n",
    "\n",
    "track_df['is_group']=np.nan\n",
    "\n",
    "for i in range(len(track_df)):\n",
    "    if track_df['artist_name'][i] in groups:\n",
    "        track_df['is_group'][i]=1\n",
    "    else:\n",
    "        track_df['is_group'][i]=0   "
   ]
  },
  {
   "cell_type": "code",
   "execution_count": 73,
   "metadata": {},
   "outputs": [],
   "source": [
    "# Create a gender column using the lists created above\n",
    "\n",
    "track_df['gender']=np.nan\n",
    "\n",
    "for i in range(len(track_df)):\n",
    "    if track_df['artist_name'][i] in female:\n",
    "        track_df['gender'][i]='female'\n",
    "    elif track_df['artist_name'][i] in mixed:\n",
    "        track_df['gender'][i]='mixed'\n",
    "    else:\n",
    "        track_df['gender'][i]='male'"
   ]
  },
  {
   "cell_type": "code",
   "execution_count": 74,
   "metadata": {},
   "outputs": [
    {
     "data": {
      "text/html": [
       "<div>\n",
       "<style scoped>\n",
       "    .dataframe tbody tr th:only-of-type {\n",
       "        vertical-align: middle;\n",
       "    }\n",
       "\n",
       "    .dataframe tbody tr th {\n",
       "        vertical-align: top;\n",
       "    }\n",
       "\n",
       "    .dataframe thead th {\n",
       "        text-align: right;\n",
       "    }\n",
       "</style>\n",
       "<table border=\"1\" class=\"dataframe\">\n",
       "  <thead>\n",
       "    <tr style=\"text-align: right;\">\n",
       "      <th></th>\n",
       "      <th>track_id</th>\n",
       "      <th>artist_name</th>\n",
       "      <th>track_name</th>\n",
       "      <th>rank</th>\n",
       "      <th>danceability</th>\n",
       "      <th>energy</th>\n",
       "      <th>key</th>\n",
       "      <th>loudness</th>\n",
       "      <th>mode</th>\n",
       "      <th>speechiness</th>\n",
       "      <th>acousticness</th>\n",
       "      <th>instrumentalness</th>\n",
       "      <th>liveness</th>\n",
       "      <th>valence</th>\n",
       "      <th>tempo</th>\n",
       "      <th>duration_ms</th>\n",
       "      <th>time_signature</th>\n",
       "      <th>is_group</th>\n",
       "      <th>gender</th>\n",
       "    </tr>\n",
       "  </thead>\n",
       "  <tbody>\n",
       "    <tr>\n",
       "      <th>count</th>\n",
       "      <td>811</td>\n",
       "      <td>811</td>\n",
       "      <td>811</td>\n",
       "      <td>811.000000</td>\n",
       "      <td>811.000000</td>\n",
       "      <td>811.000000</td>\n",
       "      <td>811.0</td>\n",
       "      <td>811.000000</td>\n",
       "      <td>811.0</td>\n",
       "      <td>811.000000</td>\n",
       "      <td>811.000000</td>\n",
       "      <td>811.0</td>\n",
       "      <td>811.000000</td>\n",
       "      <td>811.000000</td>\n",
       "      <td>811.000000</td>\n",
       "      <td>811.0</td>\n",
       "      <td>811.0</td>\n",
       "      <td>811.000000</td>\n",
       "      <td>811</td>\n",
       "    </tr>\n",
       "    <tr>\n",
       "      <th>unique</th>\n",
       "      <td>811</td>\n",
       "      <td>224</td>\n",
       "      <td>811</td>\n",
       "      <td>NaN</td>\n",
       "      <td>NaN</td>\n",
       "      <td>NaN</td>\n",
       "      <td>12.0</td>\n",
       "      <td>NaN</td>\n",
       "      <td>2.0</td>\n",
       "      <td>NaN</td>\n",
       "      <td>NaN</td>\n",
       "      <td>285.0</td>\n",
       "      <td>NaN</td>\n",
       "      <td>NaN</td>\n",
       "      <td>NaN</td>\n",
       "      <td>784.0</td>\n",
       "      <td>4.0</td>\n",
       "      <td>NaN</td>\n",
       "      <td>3</td>\n",
       "    </tr>\n",
       "    <tr>\n",
       "      <th>top</th>\n",
       "      <td>6mBlft6IhCJwPNKhnbb0wK</td>\n",
       "      <td>Jason Aldean</td>\n",
       "      <td>Caught Up In The Country</td>\n",
       "      <td>NaN</td>\n",
       "      <td>NaN</td>\n",
       "      <td>NaN</td>\n",
       "      <td>0.0</td>\n",
       "      <td>NaN</td>\n",
       "      <td>1.0</td>\n",
       "      <td>NaN</td>\n",
       "      <td>NaN</td>\n",
       "      <td>0.0</td>\n",
       "      <td>NaN</td>\n",
       "      <td>NaN</td>\n",
       "      <td>NaN</td>\n",
       "      <td>190587.0</td>\n",
       "      <td>4.0</td>\n",
       "      <td>NaN</td>\n",
       "      <td>male</td>\n",
       "    </tr>\n",
       "    <tr>\n",
       "      <th>freq</th>\n",
       "      <td>1</td>\n",
       "      <td>17</td>\n",
       "      <td>1</td>\n",
       "      <td>NaN</td>\n",
       "      <td>NaN</td>\n",
       "      <td>NaN</td>\n",
       "      <td>99.0</td>\n",
       "      <td>NaN</td>\n",
       "      <td>718.0</td>\n",
       "      <td>NaN</td>\n",
       "      <td>NaN</td>\n",
       "      <td>502.0</td>\n",
       "      <td>NaN</td>\n",
       "      <td>NaN</td>\n",
       "      <td>NaN</td>\n",
       "      <td>3.0</td>\n",
       "      <td>773.0</td>\n",
       "      <td>NaN</td>\n",
       "      <td>645</td>\n",
       "    </tr>\n",
       "    <tr>\n",
       "      <th>mean</th>\n",
       "      <td>NaN</td>\n",
       "      <td>NaN</td>\n",
       "      <td>NaN</td>\n",
       "      <td>23.933416</td>\n",
       "      <td>0.568727</td>\n",
       "      <td>0.736852</td>\n",
       "      <td>NaN</td>\n",
       "      <td>-5.443938</td>\n",
       "      <td>NaN</td>\n",
       "      <td>0.047960</td>\n",
       "      <td>0.169849</td>\n",
       "      <td>NaN</td>\n",
       "      <td>0.171069</td>\n",
       "      <td>0.557468</td>\n",
       "      <td>125.079513</td>\n",
       "      <td>NaN</td>\n",
       "      <td>NaN</td>\n",
       "      <td>0.196054</td>\n",
       "      <td>NaN</td>\n",
       "    </tr>\n",
       "    <tr>\n",
       "      <th>std</th>\n",
       "      <td>NaN</td>\n",
       "      <td>NaN</td>\n",
       "      <td>NaN</td>\n",
       "      <td>21.053031</td>\n",
       "      <td>0.093981</td>\n",
       "      <td>0.156695</td>\n",
       "      <td>NaN</td>\n",
       "      <td>1.852772</td>\n",
       "      <td>NaN</td>\n",
       "      <td>0.060613</td>\n",
       "      <td>0.201140</td>\n",
       "      <td>NaN</td>\n",
       "      <td>0.114718</td>\n",
       "      <td>0.204050</td>\n",
       "      <td>31.541528</td>\n",
       "      <td>NaN</td>\n",
       "      <td>NaN</td>\n",
       "      <td>0.397255</td>\n",
       "      <td>NaN</td>\n",
       "    </tr>\n",
       "    <tr>\n",
       "      <th>min</th>\n",
       "      <td>NaN</td>\n",
       "      <td>NaN</td>\n",
       "      <td>NaN</td>\n",
       "      <td>1.000000</td>\n",
       "      <td>0.169000</td>\n",
       "      <td>0.062800</td>\n",
       "      <td>NaN</td>\n",
       "      <td>-17.077000</td>\n",
       "      <td>NaN</td>\n",
       "      <td>0.023000</td>\n",
       "      <td>0.000226</td>\n",
       "      <td>NaN</td>\n",
       "      <td>0.021200</td>\n",
       "      <td>0.067300</td>\n",
       "      <td>48.718000</td>\n",
       "      <td>NaN</td>\n",
       "      <td>NaN</td>\n",
       "      <td>0.000000</td>\n",
       "      <td>NaN</td>\n",
       "    </tr>\n",
       "    <tr>\n",
       "      <th>25%</th>\n",
       "      <td>NaN</td>\n",
       "      <td>NaN</td>\n",
       "      <td>NaN</td>\n",
       "      <td>2.000000</td>\n",
       "      <td>0.510500</td>\n",
       "      <td>0.657500</td>\n",
       "      <td>NaN</td>\n",
       "      <td>-6.307500</td>\n",
       "      <td>NaN</td>\n",
       "      <td>0.030600</td>\n",
       "      <td>0.027150</td>\n",
       "      <td>NaN</td>\n",
       "      <td>0.097450</td>\n",
       "      <td>0.405000</td>\n",
       "      <td>97.999000</td>\n",
       "      <td>NaN</td>\n",
       "      <td>NaN</td>\n",
       "      <td>0.000000</td>\n",
       "      <td>NaN</td>\n",
       "    </tr>\n",
       "    <tr>\n",
       "      <th>50%</th>\n",
       "      <td>NaN</td>\n",
       "      <td>NaN</td>\n",
       "      <td>NaN</td>\n",
       "      <td>20.000000</td>\n",
       "      <td>0.573000</td>\n",
       "      <td>0.777000</td>\n",
       "      <td>NaN</td>\n",
       "      <td>-5.229000</td>\n",
       "      <td>NaN</td>\n",
       "      <td>0.036600</td>\n",
       "      <td>0.088300</td>\n",
       "      <td>NaN</td>\n",
       "      <td>0.122000</td>\n",
       "      <td>0.560000</td>\n",
       "      <td>122.981000</td>\n",
       "      <td>NaN</td>\n",
       "      <td>NaN</td>\n",
       "      <td>0.000000</td>\n",
       "      <td>NaN</td>\n",
       "    </tr>\n",
       "    <tr>\n",
       "      <th>75%</th>\n",
       "      <td>NaN</td>\n",
       "      <td>NaN</td>\n",
       "      <td>NaN</td>\n",
       "      <td>45.000000</td>\n",
       "      <td>0.632000</td>\n",
       "      <td>0.856000</td>\n",
       "      <td>NaN</td>\n",
       "      <td>-4.251500</td>\n",
       "      <td>NaN</td>\n",
       "      <td>0.047850</td>\n",
       "      <td>0.252000</td>\n",
       "      <td>NaN</td>\n",
       "      <td>0.220000</td>\n",
       "      <td>0.717000</td>\n",
       "      <td>150.111500</td>\n",
       "      <td>NaN</td>\n",
       "      <td>NaN</td>\n",
       "      <td>0.000000</td>\n",
       "      <td>NaN</td>\n",
       "    </tr>\n",
       "    <tr>\n",
       "      <th>max</th>\n",
       "      <td>NaN</td>\n",
       "      <td>NaN</td>\n",
       "      <td>NaN</td>\n",
       "      <td>60.000000</td>\n",
       "      <td>0.878000</td>\n",
       "      <td>0.994000</td>\n",
       "      <td>NaN</td>\n",
       "      <td>-0.698000</td>\n",
       "      <td>NaN</td>\n",
       "      <td>0.952000</td>\n",
       "      <td>0.952000</td>\n",
       "      <td>NaN</td>\n",
       "      <td>0.882000</td>\n",
       "      <td>0.972000</td>\n",
       "      <td>205.958000</td>\n",
       "      <td>NaN</td>\n",
       "      <td>NaN</td>\n",
       "      <td>1.000000</td>\n",
       "      <td>NaN</td>\n",
       "    </tr>\n",
       "  </tbody>\n",
       "</table>\n",
       "</div>"
      ],
      "text/plain": [
       "                      track_id   artist_name                track_name  \\\n",
       "count                      811           811                       811   \n",
       "unique                     811           224                       811   \n",
       "top     6mBlft6IhCJwPNKhnbb0wK  Jason Aldean  Caught Up In The Country   \n",
       "freq                         1            17                         1   \n",
       "mean                       NaN           NaN                       NaN   \n",
       "std                        NaN           NaN                       NaN   \n",
       "min                        NaN           NaN                       NaN   \n",
       "25%                        NaN           NaN                       NaN   \n",
       "50%                        NaN           NaN                       NaN   \n",
       "75%                        NaN           NaN                       NaN   \n",
       "max                        NaN           NaN                       NaN   \n",
       "\n",
       "              rank  danceability      energy    key    loudness   mode  \\\n",
       "count   811.000000    811.000000  811.000000  811.0  811.000000  811.0   \n",
       "unique         NaN           NaN         NaN   12.0         NaN    2.0   \n",
       "top            NaN           NaN         NaN    0.0         NaN    1.0   \n",
       "freq           NaN           NaN         NaN   99.0         NaN  718.0   \n",
       "mean     23.933416      0.568727    0.736852    NaN   -5.443938    NaN   \n",
       "std      21.053031      0.093981    0.156695    NaN    1.852772    NaN   \n",
       "min       1.000000      0.169000    0.062800    NaN  -17.077000    NaN   \n",
       "25%       2.000000      0.510500    0.657500    NaN   -6.307500    NaN   \n",
       "50%      20.000000      0.573000    0.777000    NaN   -5.229000    NaN   \n",
       "75%      45.000000      0.632000    0.856000    NaN   -4.251500    NaN   \n",
       "max      60.000000      0.878000    0.994000    NaN   -0.698000    NaN   \n",
       "\n",
       "        speechiness  acousticness  instrumentalness    liveness     valence  \\\n",
       "count    811.000000    811.000000             811.0  811.000000  811.000000   \n",
       "unique          NaN           NaN             285.0         NaN         NaN   \n",
       "top             NaN           NaN               0.0         NaN         NaN   \n",
       "freq            NaN           NaN             502.0         NaN         NaN   \n",
       "mean       0.047960      0.169849               NaN    0.171069    0.557468   \n",
       "std        0.060613      0.201140               NaN    0.114718    0.204050   \n",
       "min        0.023000      0.000226               NaN    0.021200    0.067300   \n",
       "25%        0.030600      0.027150               NaN    0.097450    0.405000   \n",
       "50%        0.036600      0.088300               NaN    0.122000    0.560000   \n",
       "75%        0.047850      0.252000               NaN    0.220000    0.717000   \n",
       "max        0.952000      0.952000               NaN    0.882000    0.972000   \n",
       "\n",
       "             tempo  duration_ms  time_signature    is_group gender  \n",
       "count   811.000000        811.0           811.0  811.000000    811  \n",
       "unique         NaN        784.0             4.0         NaN      3  \n",
       "top            NaN     190587.0             4.0         NaN   male  \n",
       "freq           NaN          3.0           773.0         NaN    645  \n",
       "mean    125.079513          NaN             NaN    0.196054    NaN  \n",
       "std      31.541528          NaN             NaN    0.397255    NaN  \n",
       "min      48.718000          NaN             NaN    0.000000    NaN  \n",
       "25%      97.999000          NaN             NaN    0.000000    NaN  \n",
       "50%     122.981000          NaN             NaN    0.000000    NaN  \n",
       "75%     150.111500          NaN             NaN    0.000000    NaN  \n",
       "max     205.958000          NaN             NaN    1.000000    NaN  "
      ]
     },
     "execution_count": 74,
     "metadata": {},
     "output_type": "execute_result"
    }
   ],
   "source": [
    "track_df.describe(include='all')"
   ]
  },
  {
   "cell_type": "code",
   "execution_count": 75,
   "metadata": {},
   "outputs": [],
   "source": [
    "# Save resulting dataframe to CSV\n",
    "\n",
    "track_df.to_csv('./track_df.csv')"
   ]
  },
  {
   "cell_type": "markdown",
   "metadata": {},
   "source": [
    "## Exploratory Data Analysis"
   ]
  },
  {
   "cell_type": "code",
   "execution_count": 76,
   "metadata": {},
   "outputs": [
    {
     "data": {
      "text/plain": [
       "track_id             object\n",
       "artist_name          object\n",
       "track_name           object\n",
       "rank                  int64\n",
       "danceability        float64\n",
       "energy              float64\n",
       "key                  object\n",
       "loudness            float64\n",
       "mode                 object\n",
       "speechiness         float64\n",
       "acousticness        float64\n",
       "instrumentalness     object\n",
       "liveness            float64\n",
       "valence             float64\n",
       "tempo               float64\n",
       "duration_ms          object\n",
       "time_signature       object\n",
       "is_group            float64\n",
       "gender               object\n",
       "dtype: object"
      ]
     },
     "execution_count": 76,
     "metadata": {},
     "output_type": "execute_result"
    }
   ],
   "source": [
    "track_df.dtypes"
   ]
  },
  {
   "cell_type": "code",
   "execution_count": 77,
   "metadata": {},
   "outputs": [],
   "source": [
    "# Convert is_group to integer\n",
    "\n",
    "track_df.is_group = track_df.is_group.astype(int)"
   ]
  },
  {
   "cell_type": "code",
   "execution_count": 78,
   "metadata": {},
   "outputs": [
    {
     "data": {
      "text/plain": [
       "224"
      ]
     },
     "execution_count": 78,
     "metadata": {},
     "output_type": "execute_result"
    }
   ],
   "source": [
    "# Number of unique artists in the dataset\n",
    "\n",
    "len(track_df.artist_name.unique())"
   ]
  },
  {
   "cell_type": "code",
   "execution_count": 79,
   "metadata": {},
   "outputs": [
    {
     "data": {
      "text/plain": [
       "0     99\n",
       "2     89\n",
       "7     85\n",
       "9     81\n",
       "1     76\n",
       "6     70\n",
       "4     65\n",
       "11    60\n",
       "8     58\n",
       "5     54\n",
       "10    37\n",
       "3     37\n",
       "Name: key, dtype: int64"
      ]
     },
     "execution_count": 79,
     "metadata": {},
     "output_type": "execute_result"
    }
   ],
   "source": [
    "# Key integers map to pitches using standard Pitch Class notation. There are no missing values\n",
    " \n",
    "track_df.key.value_counts()"
   ]
  },
  {
   "cell_type": "code",
   "execution_count": 80,
   "metadata": {},
   "outputs": [
    {
     "data": {
      "text/plain": [
       "1    718\n",
       "0     93\n",
       "Name: mode, dtype: int64"
      ]
     },
     "execution_count": 80,
     "metadata": {},
     "output_type": "execute_result"
    }
   ],
   "source": [
    "# Mode is a binomial variable indicating if a song is major or minor. This dataset is overwhelmingly major.\n",
    "\n",
    "track_df['mode'].value_counts()"
   ]
  },
  {
   "cell_type": "code",
   "execution_count": 95,
   "metadata": {},
   "outputs": [
    {
     "name": "stdout",
     "output_type": "stream",
     "text": [
      "AxesSubplot(0.125,0.125;0.775x0.755)\n"
     ]
    },
    {
     "data": {
      "image/png": "[encoded data removed]",
      "text/plain": [
       "<Figure size 432x288 with 1 Axes>"
      ]
     },
     "metadata": {
      "needs_background": "light"
     },
     "output_type": "display_data"
    }
   ],
   "source": [
    "print(sns.distplot(track_df.danceability, kde=False))"
   ]
  },
  {
   "cell_type": "code",
   "execution_count": 96,
   "metadata": {},
   "outputs": [
    {
     "name": "stdout",
     "output_type": "stream",
     "text": [
      "AxesSubplot(0.125,0.125;0.775x0.755)\n"
     ]
    },
    {
     "data": {
      "image/png": "[encoded data removed]",
      "text/plain": [
       "<Figure size 432x288 with 1 Axes>"
      ]
     },
     "metadata": {
      "needs_background": "light"
     },
     "output_type": "display_data"
    }
   ],
   "source": [
    "print(sns.distplot(track_df.energy, kde=False))"
   ]
  },
  {
   "cell_type": "code",
   "execution_count": 97,
   "metadata": {},
   "outputs": [
    {
     "name": "stdout",
     "output_type": "stream",
     "text": [
      "AxesSubplot(0.125,0.125;0.775x0.755)\n"
     ]
    },
    {
     "data": {
      "image/png": "[encoded data removed]",
      "text/plain": [
       "<Figure size 432x288 with 1 Axes>"
      ]
     },
     "metadata": {
      "needs_background": "light"
     },
     "output_type": "display_data"
    }
   ],
   "source": [
    "print(sns.distplot(track_df.key, kde=False))"
   ]
  },
  {
   "cell_type": "code",
   "execution_count": 98,
   "metadata": {},
   "outputs": [
    {
     "name": "stdout",
     "output_type": "stream",
     "text": [
      "AxesSubplot(0.125,0.125;0.775x0.755)\n"
     ]
    },
    {
     "data": {
      "image/png": "[encoded data removed]",
      "text/plain": [
       "<Figure size 432x288 with 1 Axes>"
      ]
     },
     "metadata": {
      "needs_background": "light"
     },
     "output_type": "display_data"
    }
   ],
   "source": [
    "print(sns.distplot(track_df.loudness, kde=False))"
   ]
  },
  {
   "cell_type": "code",
   "execution_count": 99,
   "metadata": {},
   "outputs": [
    {
     "name": "stdout",
     "output_type": "stream",
     "text": [
      "AxesSubplot(0.125,0.125;0.775x0.755)\n"
     ]
    },
    {
     "data": {
      "image/png": "[encoded data removed]",
      "text/plain": [
       "<Figure size 432x288 with 1 Axes>"
      ]
     },
     "metadata": {
      "needs_background": "light"
     },
     "output_type": "display_data"
    }
   ],
   "source": [
    "print(sns.distplot(track_df.speechiness, kde=False))"
   ]
  },
  {
   "cell_type": "code",
   "execution_count": 100,
   "metadata": {},
   "outputs": [
    {
     "name": "stdout",
     "output_type": "stream",
     "text": [
      "AxesSubplot(0.125,0.125;0.775x0.755)\n"
     ]
    },
    {
     "data": {
      "image/png": "[encoded data removed]",
      "text/plain": [
       "<Figure size 432x288 with 1 Axes>"
      ]
     },
     "metadata": {
      "needs_background": "light"
     },
     "output_type": "display_data"
    }
   ],
   "source": [
    "print(sns.distplot(track_df.acousticness, kde=False))"
   ]
  },
  {
   "cell_type": "code",
   "execution_count": 101,
   "metadata": {},
   "outputs": [
    {
     "name": "stdout",
     "output_type": "stream",
     "text": [
      "AxesSubplot(0.125,0.125;0.775x0.755)\n"
     ]
    },
    {
     "data": {
      "image/png": "[encoded data removed]",
      "text/plain": [
       "<Figure size 432x288 with 1 Axes>"
      ]
     },
     "metadata": {
      "needs_background": "light"
     },
     "output_type": "display_data"
    }
   ],
   "source": [
    "print(sns.distplot(track_df.instrumentalness, kde=False))"
   ]
  },
  {
   "cell_type": "code",
   "execution_count": 102,
   "metadata": {},
   "outputs": [
    {
     "name": "stdout",
     "output_type": "stream",
     "text": [
      "AxesSubplot(0.125,0.125;0.775x0.755)\n"
     ]
    },
    {
     "data": {
      "image/png": "[encoded data removed]",
      "text/plain": [
       "<Figure size 432x288 with 1 Axes>"
      ]
     },
     "metadata": {
      "needs_background": "light"
     },
     "output_type": "display_data"
    }
   ],
   "source": [
    "print(sns.distplot(track_df.liveness, kde=False))"
   ]
  },
  {
   "cell_type": "code",
   "execution_count": 103,
   "metadata": {},
   "outputs": [
    {
     "name": "stdout",
     "output_type": "stream",
     "text": [
      "AxesSubplot(0.125,0.125;0.775x0.755)\n"
     ]
    },
    {
     "data": {
      "image/png": "[encoded data removed]",
      "text/plain": [
       "<Figure size 432x288 with 1 Axes>"
      ]
     },
     "metadata": {
      "needs_background": "light"
     },
     "output_type": "display_data"
    }
   ],
   "source": [
    "print(sns.distplot(track_df.valence, kde=False))"
   ]
  },
  {
   "cell_type": "code",
   "execution_count": 104,
   "metadata": {},
   "outputs": [
    {
     "name": "stdout",
     "output_type": "stream",
     "text": [
      "AxesSubplot(0.125,0.125;0.775x0.755)\n"
     ]
    },
    {
     "data": {
      "image/png": "[encoded data removed]",
      "text/plain": [
       "<Figure size 432x288 with 1 Axes>"
      ]
     },
     "metadata": {
      "needs_background": "light"
     },
     "output_type": "display_data"
    }
   ],
   "source": [
    "print(sns.distplot(track_df.tempo, kde=False))"
   ]
  },
  {
   "cell_type": "code",
   "execution_count": 105,
   "metadata": {},
   "outputs": [
    {
     "name": "stdout",
     "output_type": "stream",
     "text": [
      "AxesSubplot(0.125,0.125;0.775x0.755)\n"
     ]
    },
    {
     "data": {
      "image/png": "[encoded data removed]",
      "text/plain": [
       "<Figure size 432x288 with 1 Axes>"
      ]
     },
     "metadata": {
      "needs_background": "light"
     },
     "output_type": "display_data"
    }
   ],
   "source": [
    "print(sns.distplot(track_df.duration_ms, kde=False))"
   ]
  },
  {
   "cell_type": "code",
   "execution_count": 106,
   "metadata": {},
   "outputs": [
    {
     "name": "stdout",
     "output_type": "stream",
     "text": [
      "AxesSubplot(0.125,0.125;0.775x0.755)\n"
     ]
    },
    {
     "data": {
      "image/png": "[encoded data removed]",
      "text/plain": [
       "<Figure size 432x288 with 1 Axes>"
      ]
     },
     "metadata": {
      "needs_background": "light"
     },
     "output_type": "display_data"
    }
   ],
   "source": [
    "print(sns.distplot(track_df.time_signature, kde=False))"
   ]
  },
  {
   "cell_type": "code",
   "execution_count": 82,
   "metadata": {},
   "outputs": [],
   "source": [
    "# Dummy out gender, which has 3 categories (male, female, mixed) - then drop the mixed column\n",
    "\n",
    "track_df = pd.get_dummies(track_df, columns=['gender'])\n",
    "\n",
    "track_df.drop('gender_mixed', axis=1, inplace = True)"
   ]
  },
  {
   "cell_type": "code",
   "execution_count": 83,
   "metadata": {},
   "outputs": [
    {
     "data": {
      "text/plain": [
       "<matplotlib.axes._subplots.AxesSubplot at 0x1a1a5f1eb8>"
      ]
     },
     "execution_count": 83,
     "metadata": {},
     "output_type": "execute_result"
    },
    {
     "data": {
      "image/png": "[encoded data removed]",
      "text/plain": [
       "<Figure size 792x648 with 2 Axes>"
      ]
     },
     "metadata": {
      "needs_background": "light"
     },
     "output_type": "display_data"
    }
   ],
   "source": [
    "# Compute the correlation matrix\n",
    "corr = track_df.corr()\n",
    "\n",
    "# Generate a mask for the upper triangle\n",
    "mask = np.zeros_like(corr, dtype=np.bool)\n",
    "mask[np.triu_indices_from(mask)] = True\n",
    "\n",
    "# Set up the matplotlib figure\n",
    "f, ax = plt.subplots(figsize=(11, 9))\n",
    "\n",
    "# Generate a custom diverging colormap\n",
    "cmap = sns.diverging_palette(220, 10, as_cmap=True)\n",
    "\n",
    "# Draw the heatmap with the mask and correct aspect ratio\n",
    "sns.heatmap(corr, mask=mask, cmap=cmap, vmax=.3, center=0,\n",
    "            square=True, linewidths=.5, cbar_kws={\"shrink\": .5})"
   ]
  },
  {
   "cell_type": "code",
   "execution_count": 84,
   "metadata": {},
   "outputs": [
    {
     "data": {
      "text/plain": [
       "<Figure size 1440x720 with 0 Axes>"
      ]
     },
     "execution_count": 84,
     "metadata": {},
     "output_type": "execute_result"
    },
    {
     "data": {
      "image/png": "[encoded data removed]",
      "text/plain": [
       "<Figure size 432x288 with 1 Axes>"
      ]
     },
     "metadata": {
      "needs_background": "light"
     },
     "output_type": "display_data"
    },
    {
     "data": {
      "text/plain": [
       "<Figure size 1440x720 with 0 Axes>"
      ]
     },
     "metadata": {},
     "output_type": "display_data"
    }
   ],
   "source": [
    "#Histogram of peak rank by gender\n",
    "\n",
    "male_df =track_df[track_df.gender_male==1]\n",
    "sns.distplot(male_df['rank'],  kde=False,label='Male', color='blue')\n",
    "\n",
    "female_df = track_df[track_df.gender_female==1]\n",
    "sns.distplot(female_df['rank'],  kde=False, label='Female', color='red')\n",
    "\n",
    "# Plot formatting\n",
    "plt.legend(prop={'size': 12})\n",
    "plt.title('Peak Chart Position by Gender')\n",
    "plt.xlabel('Peak Chart Position')\n",
    "plt.ylabel('Density')\n",
    "plt.figure(figsize=(20,10))"
   ]
  },
  {
   "cell_type": "code",
   "execution_count": 85,
   "metadata": {},
   "outputs": [
    {
     "name": "stdout",
     "output_type": "stream",
     "text": [
      "Percent of male songs that hit number 1: 0.28527131782945736\n",
      "Number of male songs that hit number 1: 184\n",
      "Number of male songs that didnt hit number 1: 461\n"
     ]
    }
   ],
   "source": [
    "print('Percent of male songs that hit number 1: ' + str(len(male_df[male_df['rank']==1])/len(male_df)))\n",
    "print('Number of male songs that hit number 1: ' + str(len(male_df[male_df['rank']==1])))\n",
    "print('Number of male songs that didnt hit number 1: ' + str(len(male_df[male_df['rank']!=1])))"
   ]
  },
  {
   "cell_type": "code",
   "execution_count": 86,
   "metadata": {},
   "outputs": [
    {
     "name": "stdout",
     "output_type": "stream",
     "text": [
      "Percent of female songs that hit number 1: 0.09230769230769231\n",
      "Number of female songs that hit number 1: 12\n",
      "Number of female songs that didnt hit number 1: 118\n"
     ]
    }
   ],
   "source": [
    "print('Percent of female songs that hit number 1: ' + str(len(female_df[female_df['rank']==1])/len(female_df)))\n",
    "print('Number of female songs that hit number 1: ' + str(len(female_df[female_df['rank']==1])))\n",
    "print('Number of female songs that didnt hit number 1: ' + str(len(female_df[female_df['rank']!=1])))"
   ]
  },
  {
   "cell_type": "code",
   "execution_count": 87,
   "metadata": {},
   "outputs": [
    {
     "name": "stdout",
     "output_type": "stream",
     "text": [
      "Number of unique female artists to hit number 1: 7\n",
      "Number of unique male artists to hit number 1: 53\n"
     ]
    }
   ],
   "source": [
    "print('Number of unique female artists to hit number 1: ' + str(len(female_df[female_df['rank']==1].artist_name.value_counts())))\n",
    "print('Number of unique male artists to hit number 1: ' + str(len(male_df[male_df['rank']==1].artist_name.value_counts())))"
   ]
  },
  {
   "cell_type": "code",
   "execution_count": 88,
   "metadata": {},
   "outputs": [],
   "source": [
    "group_df = track_df[track_df.is_group==1]\n",
    "solo_df = track_df[track_df.is_group==0]"
   ]
  },
  {
   "cell_type": "code",
   "execution_count": 89,
   "metadata": {},
   "outputs": [
    {
     "name": "stdout",
     "output_type": "stream",
     "text": [
      "Percent of solo artist songs that hit number 1: 0.24846625766871167\n",
      "Number of solo artist songs that hit number 1: 162\n",
      "Number of solo artist songs that didnt hit number 1: 490\n"
     ]
    }
   ],
   "source": [
    "print('Percent of solo artist songs that hit number 1: ' + str(len(solo_df[solo_df['rank']==1])/len(solo_df)))\n",
    "print('Number of solo artist songs that hit number 1: ' + str(len(solo_df[solo_df['rank']==1])))\n",
    "print('Number of solo artist songs that didnt hit number 1: ' + str(len(solo_df[solo_df['rank']!=1])))"
   ]
  },
  {
   "cell_type": "code",
   "execution_count": 90,
   "metadata": {},
   "outputs": [
    {
     "name": "stdout",
     "output_type": "stream",
     "text": [
      "Percent of duo/group artist songs that hit number 1: 0.23270440251572327\n",
      "Number of duo/group artist songs that hit number 1: 37\n",
      "Number of duo/group artist songs that didnt hit number 1: 122\n"
     ]
    }
   ],
   "source": [
    "print('Percent of duo/group artist songs that hit number 1: ' + str(len(group_df[group_df['rank']==1])/len(group_df)))\n",
    "print('Number of duo/group artist songs that hit number 1: ' + str(len(group_df[group_df['rank']==1])))\n",
    "print('Number of duo/group artist songs that didnt hit number 1: ' + str(len(group_df[group_df['rank']!=1])))"
   ]
  },
  {
   "cell_type": "code",
   "execution_count": 91,
   "metadata": {},
   "outputs": [
    {
     "name": "stdout",
     "output_type": "stream",
     "text": [
      "Number of unique all male groups: 112\n",
      "11\n"
     ]
    }
   ],
   "source": [
    "print('Number of unique all male groups: ' +str(len(group_df[group_df.gender_male==1])))\n",
    "print(len(group_df[group_df.gender_female==1]))"
   ]
  },
  {
   "cell_type": "code",
   "execution_count": 92,
   "metadata": {},
   "outputs": [],
   "source": [
    "male_group_df = group_df[group_df.gender_male==1]\n",
    "female_group_df = group_df[group_df.gender_female==1]"
   ]
  },
  {
   "cell_type": "code",
   "execution_count": 93,
   "metadata": {},
   "outputs": [
    {
     "name": "stdout",
     "output_type": "stream",
     "text": [
      "Percent of male group songs that hit number 1: 0.29464285714285715\n",
      "Number of male group songs that hit number 1: 33\n",
      "Number of male group songs that didnt hit number 1: 79\n",
      "Percent of groups that are all male: 0.7044025157232704\n"
     ]
    }
   ],
   "source": [
    "print('Percent of male group songs that hit number 1: ' + str(len(male_group_df[male_group_df['rank']==1])/len(male_group_df)))\n",
    "print('Number of male group songs that hit number 1: ' + str(len(male_group_df[male_group_df['rank']==1])))\n",
    "print('Number of male group songs that didnt hit number 1: ' + str(len(male_group_df[male_group_df['rank']!=1])))\n",
    "print('Percent of groups that are all male: ' + str(len(male_group_df)/len(group_df)))"
   ]
  },
  {
   "cell_type": "code",
   "execution_count": 94,
   "metadata": {},
   "outputs": [
    {
     "name": "stdout",
     "output_type": "stream",
     "text": [
      "Percent of female group songs that hit number 1: 0.09090909090909091\n",
      "Number of female group songs that hit number 1: 1\n",
      "Number of female group songs that didnt hit number 1: 10\n"
     ]
    }
   ],
   "source": [
    "print('Percent of female group songs that hit number 1: ' + str(len(female_group_df[female_group_df['rank']==1])/len(female_group_df)))\n",
    "print('Number of female group songs that hit number 1: ' + str(len(female_group_df[female_group_df['rank']==1])))\n",
    "print('Number of female group songs that didnt hit number 1: ' + str(len(female_group_df[female_group_df['rank']!=1])))"
   ]
  },
  {
   "cell_type": "markdown",
   "metadata": {},
   "source": [
    "## Modeling"
   ]
  },
  {
   "cell_type": "code",
   "execution_count": 174,
   "metadata": {},
   "outputs": [],
   "source": [
    "feature_cols = ['danceability', 'energy', 'key', 'loudness', 'acousticness', 'instrumentalness', 'liveness', 'valence', 'tempo', 'is_group', 'gender_male']\n",
    "X = track_df[feature_cols]\n",
    "y = track_df['rank']"
   ]
  },
  {
   "cell_type": "markdown",
   "metadata": {},
   "source": [
    "### Linear Regression"
   ]
  },
  {
   "cell_type": "code",
   "execution_count": 175,
   "metadata": {},
   "outputs": [],
   "source": [
    "X_train, X_test, y_train, y_test = train_test_split(X, y, test_size=.2, random_state=22)"
   ]
  },
  {
   "cell_type": "code",
   "execution_count": 176,
   "metadata": {},
   "outputs": [],
   "source": [
    "# Scale data\n",
    "\n",
    "ss = StandardScaler()\n",
    "X_train_sc = ss.fit_transform(X_train)\n",
    "X_test_sc = ss.transform (X_test)"
   ]
  },
  {
   "cell_type": "code",
   "execution_count": 177,
   "metadata": {},
   "outputs": [],
   "source": [
    "# instantiate model\n",
    "linreg = LinearRegression()\n",
    "\n",
    "# fit model\n",
    "linreg.fit(X_train_sc,y_train)\n",
    "\n",
    "# store prediction\n",
    "y_pred = linreg.predict(X_test_sc)"
   ]
  },
  {
   "cell_type": "code",
   "execution_count": 178,
   "metadata": {},
   "outputs": [
    {
     "data": {
      "text/plain": [
       "Text(0, 0.5, 'actual')"
      ]
     },
     "execution_count": 178,
     "metadata": {},
     "output_type": "execute_result"
    },
    {
     "data": {
      "image/png": "[encoded data removed]",
      "text/plain": [
       "<Figure size 432x288 with 1 Axes>"
      ]
     },
     "metadata": {
      "needs_background": "light"
     },
     "output_type": "display_data"
    }
   ],
   "source": [
    "# Plot the predicted vs actual ranks\n",
    "\n",
    "plt.scatter(y_pred, y_test)\n",
    "plt.xlabel('predictions')\n",
    "plt.ylabel('actual')"
   ]
  },
  {
   "cell_type": "code",
   "execution_count": 179,
   "metadata": {},
   "outputs": [
    {
     "name": "stdout",
     "output_type": "stream",
     "text": [
      "Mean Absolute Error: 18.24283532680292\n",
      "Mean Squared Error: 414.9281521188981\n",
      "Root Mean Squared Error: 20.36978527424622\n"
     ]
    }
   ],
   "source": [
    "print('Mean Absolute Error:', metrics.mean_absolute_error(y_test, y_pred))  \n",
    "print('Mean Squared Error:', metrics.mean_squared_error(y_test, y_pred))  \n",
    "print('Root Mean Squared Error:', np.sqrt(metrics.mean_squared_error(y_test, y_pred)))"
   ]
  },
  {
   "cell_type": "code",
   "execution_count": 180,
   "metadata": {},
   "outputs": [
    {
     "data": {
      "text/html": [
       "<div>\n",
       "<style scoped>\n",
       "    .dataframe tbody tr th:only-of-type {\n",
       "        vertical-align: middle;\n",
       "    }\n",
       "\n",
       "    .dataframe tbody tr th {\n",
       "        vertical-align: top;\n",
       "    }\n",
       "\n",
       "    .dataframe thead th {\n",
       "        text-align: right;\n",
       "    }\n",
       "</style>\n",
       "<table border=\"1\" class=\"dataframe\">\n",
       "  <thead>\n",
       "    <tr style=\"text-align: right;\">\n",
       "      <th></th>\n",
       "      <th>Coefficient</th>\n",
       "    </tr>\n",
       "  </thead>\n",
       "  <tbody>\n",
       "    <tr>\n",
       "      <th>danceability</th>\n",
       "      <td>1.005698</td>\n",
       "    </tr>\n",
       "    <tr>\n",
       "      <th>energy</th>\n",
       "      <td>-3.326936</td>\n",
       "    </tr>\n",
       "    <tr>\n",
       "      <th>key</th>\n",
       "      <td>-0.661779</td>\n",
       "    </tr>\n",
       "    <tr>\n",
       "      <th>loudness</th>\n",
       "      <td>0.512507</td>\n",
       "    </tr>\n",
       "    <tr>\n",
       "      <th>acousticness</th>\n",
       "      <td>-0.977386</td>\n",
       "    </tr>\n",
       "    <tr>\n",
       "      <th>instrumentalness</th>\n",
       "      <td>1.372038</td>\n",
       "    </tr>\n",
       "    <tr>\n",
       "      <th>liveness</th>\n",
       "      <td>1.256789</td>\n",
       "    </tr>\n",
       "    <tr>\n",
       "      <th>valence</th>\n",
       "      <td>-0.123320</td>\n",
       "    </tr>\n",
       "    <tr>\n",
       "      <th>tempo</th>\n",
       "      <td>0.040871</td>\n",
       "    </tr>\n",
       "    <tr>\n",
       "      <th>is_group</th>\n",
       "      <td>-0.708990</td>\n",
       "    </tr>\n",
       "    <tr>\n",
       "      <th>gender_male</th>\n",
       "      <td>-3.951674</td>\n",
       "    </tr>\n",
       "  </tbody>\n",
       "</table>\n",
       "</div>"
      ],
      "text/plain": [
       "                  Coefficient\n",
       "danceability         1.005698\n",
       "energy              -3.326936\n",
       "key                 -0.661779\n",
       "loudness             0.512507\n",
       "acousticness        -0.977386\n",
       "instrumentalness     1.372038\n",
       "liveness             1.256789\n",
       "valence             -0.123320\n",
       "tempo                0.040871\n",
       "is_group            -0.708990\n",
       "gender_male         -3.951674"
      ]
     },
     "execution_count": 180,
     "metadata": {},
     "output_type": "execute_result"
    }
   ],
   "source": [
    "coeff_df = pd.DataFrame(linreg.coef_, X.columns, columns=['Coefficient'])  \n",
    "coeff_df"
   ]
  },
  {
   "cell_type": "markdown",
   "metadata": {},
   "source": [
    "### Decision Tree"
   ]
  },
  {
   "cell_type": "code",
   "execution_count": 181,
   "metadata": {},
   "outputs": [
    {
     "name": "stdout",
     "output_type": "stream",
     "text": [
      "MAE: 19.039588895105446\n"
     ]
    }
   ],
   "source": [
    "# evaluate a Decision Tree model\n",
    "\n",
    "DT = DecisionTreeRegressor(max_depth=5,random_state=22)\n",
    "DT = DT.fit(X_train, y_train)\n",
    "y_pred = DT.predict(X_test)\n",
    "print('MAE:', metrics.mean_absolute_error(y_test, y_pred))"
   ]
  },
  {
   "cell_type": "code",
   "execution_count": 182,
   "metadata": {},
   "outputs": [
    {
     "data": {
      "text/html": [
       "<div>\n",
       "<style scoped>\n",
       "    .dataframe tbody tr th:only-of-type {\n",
       "        vertical-align: middle;\n",
       "    }\n",
       "\n",
       "    .dataframe tbody tr th {\n",
       "        vertical-align: top;\n",
       "    }\n",
       "\n",
       "    .dataframe thead th {\n",
       "        text-align: right;\n",
       "    }\n",
       "</style>\n",
       "<table border=\"1\" class=\"dataframe\">\n",
       "  <thead>\n",
       "    <tr style=\"text-align: right;\">\n",
       "      <th></th>\n",
       "      <th>0</th>\n",
       "      <th>1</th>\n",
       "    </tr>\n",
       "  </thead>\n",
       "  <tbody>\n",
       "    <tr>\n",
       "      <th>0</th>\n",
       "      <td>danceability</td>\n",
       "      <td>0.179275</td>\n",
       "    </tr>\n",
       "    <tr>\n",
       "      <th>1</th>\n",
       "      <td>energy</td>\n",
       "      <td>0.077400</td>\n",
       "    </tr>\n",
       "    <tr>\n",
       "      <th>2</th>\n",
       "      <td>key</td>\n",
       "      <td>0.092123</td>\n",
       "    </tr>\n",
       "    <tr>\n",
       "      <th>3</th>\n",
       "      <td>loudness</td>\n",
       "      <td>0.032857</td>\n",
       "    </tr>\n",
       "    <tr>\n",
       "      <th>4</th>\n",
       "      <td>acousticness</td>\n",
       "      <td>0.071595</td>\n",
       "    </tr>\n",
       "    <tr>\n",
       "      <th>5</th>\n",
       "      <td>instrumentalness</td>\n",
       "      <td>0.000000</td>\n",
       "    </tr>\n",
       "    <tr>\n",
       "      <th>6</th>\n",
       "      <td>liveness</td>\n",
       "      <td>0.118797</td>\n",
       "    </tr>\n",
       "    <tr>\n",
       "      <th>7</th>\n",
       "      <td>valence</td>\n",
       "      <td>0.212753</td>\n",
       "    </tr>\n",
       "    <tr>\n",
       "      <th>8</th>\n",
       "      <td>tempo</td>\n",
       "      <td>0.027175</td>\n",
       "    </tr>\n",
       "    <tr>\n",
       "      <th>9</th>\n",
       "      <td>is_group</td>\n",
       "      <td>0.000000</td>\n",
       "    </tr>\n",
       "    <tr>\n",
       "      <th>10</th>\n",
       "      <td>gender_male</td>\n",
       "      <td>0.000000</td>\n",
       "    </tr>\n",
       "  </tbody>\n",
       "</table>\n",
       "</div>"
      ],
      "text/plain": [
       "                   0         1\n",
       "0       danceability  0.179275\n",
       "1             energy  0.077400\n",
       "2                key  0.092123\n",
       "3           loudness  0.032857\n",
       "4       acousticness  0.071595\n",
       "5   instrumentalness  0.000000\n",
       "6           liveness  0.118797\n",
       "7            valence  0.212753\n",
       "8              tempo  0.027175\n",
       "9           is_group  0.000000\n",
       "10       gender_male  0.000000"
      ]
     },
     "execution_count": 182,
     "metadata": {},
     "output_type": "execute_result"
    }
   ],
   "source": [
    "pd.DataFrame(list(zip(feature_cols,treereg.feature_importances_)))"
   ]
  },
  {
   "cell_type": "markdown",
   "metadata": {},
   "source": [
    "### Random Forest"
   ]
  },
  {
   "cell_type": "code",
   "execution_count": 183,
   "metadata": {},
   "outputs": [],
   "source": [
    "param_grid = {'bootstrap':[True],\n",
    "              'max_depth': np.arange(1, 5),\n",
    "              'min_samples_leaf': np.arange(1, 5),\n",
    "              'max_features': np.arange(1, 5),\n",
    "              'n_estimators': [100,200,300,1000],}\n",
    "\n",
    "rf = RandomForestRegressor()\n",
    "\n",
    "# Instantiate the grid search model\n",
    "grid_search = GridSearchCV(estimator = rf, param_grid = param_grid, cv = 5)"
   ]
  },
  {
   "cell_type": "code",
   "execution_count": 184,
   "metadata": {},
   "outputs": [
    {
     "data": {
      "text/plain": [
       "GridSearchCV(cv=5, error_score='raise-deprecating',\n",
       "             estimator=RandomForestRegressor(bootstrap=True, criterion='mse',\n",
       "                                             max_depth=None,\n",
       "                                             max_features='auto',\n",
       "                                             max_leaf_nodes=None,\n",
       "                                             min_impurity_decrease=0.0,\n",
       "                                             min_impurity_split=None,\n",
       "                                             min_samples_leaf=1,\n",
       "                                             min_samples_split=2,\n",
       "                                             min_weight_fraction_leaf=0.0,\n",
       "                                             n_estimators='warn', n_jobs=None,\n",
       "                                             oob_score=False, random_state=None,\n",
       "                                             verbose=0, warm_start=False),\n",
       "             iid='warn', n_jobs=None,\n",
       "             param_grid={'bootstrap': [True], 'max_depth': array([1, 2, 3, 4]),\n",
       "                         'max_features': array([1, 2, 3, 4]),\n",
       "                         'min_samples_leaf': array([1, 2, 3, 4]),\n",
       "                         'n_estimators': [100, 200, 300, 1000]},\n",
       "             pre_dispatch='2*n_jobs', refit=True, return_train_score=False,\n",
       "             scoring=None, verbose=0)"
      ]
     },
     "execution_count": 184,
     "metadata": {},
     "output_type": "execute_result"
    }
   ],
   "source": [
    "grid_search.fit(X_train, y_train)"
   ]
  },
  {
   "cell_type": "code",
   "execution_count": 185,
   "metadata": {},
   "outputs": [
    {
     "data": {
      "text/plain": [
       "{'bootstrap': True,\n",
       " 'max_depth': 4,\n",
       " 'max_features': 2,\n",
       " 'min_samples_leaf': 4,\n",
       " 'n_estimators': 100}"
      ]
     },
     "execution_count": 185,
     "metadata": {},
     "output_type": "execute_result"
    }
   ],
   "source": [
    "grid_search.best_params_"
   ]
  },
  {
   "cell_type": "code",
   "execution_count": 186,
   "metadata": {},
   "outputs": [
    {
     "data": {
      "text/plain": [
       "0.04347474195792855"
      ]
     },
     "execution_count": 186,
     "metadata": {},
     "output_type": "execute_result"
    }
   ],
   "source": [
    "grid_search.score(X_test, y_test)"
   ]
  },
  {
   "cell_type": "code",
   "execution_count": 187,
   "metadata": {},
   "outputs": [
    {
     "data": {
      "text/plain": [
       "0.01109905029802967"
      ]
     },
     "execution_count": 187,
     "metadata": {},
     "output_type": "execute_result"
    }
   ],
   "source": [
    "grid_search.best_score_"
   ]
  },
  {
   "cell_type": "code",
   "execution_count": 188,
   "metadata": {},
   "outputs": [
    {
     "name": "stdout",
     "output_type": "stream",
     "text": [
      "MSE:  18.317734347952207\n"
     ]
    }
   ],
   "source": [
    "# Run model with best parameters\n",
    "rf_model_optimal = RandomForestRegressor(max_depth=4, max_features=2, min_samples_leaf=1, n_estimators=200)\n",
    "\n",
    "rf_model_optimal.fit(X_train, y_train)\n",
    "\n",
    "y_pred = rf_model_optimal.predict(X_test)\n",
    "\n",
    "print('MSE: ', mean_absolute_error(y_test, y_pred))"
   ]
  },
  {
   "cell_type": "code",
   "execution_count": 189,
   "metadata": {},
   "outputs": [
    {
     "data": {
      "text/plain": [
       "Text(0, 0.5, 'actual')"
      ]
     },
     "execution_count": 189,
     "metadata": {},
     "output_type": "execute_result"
    },
    {
     "data": {
      "image/png": "[encoded data removed]",
      "text/plain": [
       "<Figure size 432x288 with 1 Axes>"
      ]
     },
     "metadata": {
      "needs_background": "light"
     },
     "output_type": "display_data"
    }
   ],
   "source": [
    "# Plot the predicted vs actual ranks\n",
    "\n",
    "plt.scatter(y_pred, y_test)\n",
    "plt.xlabel('predictions')\n",
    "plt.ylabel('actual')"
   ]
  },
  {
   "cell_type": "code",
   "execution_count": 190,
   "metadata": {},
   "outputs": [
    {
     "data": {
      "text/html": [
       "<div>\n",
       "<style scoped>\n",
       "    .dataframe tbody tr th:only-of-type {\n",
       "        vertical-align: middle;\n",
       "    }\n",
       "\n",
       "    .dataframe tbody tr th {\n",
       "        vertical-align: top;\n",
       "    }\n",
       "\n",
       "    .dataframe thead th {\n",
       "        text-align: right;\n",
       "    }\n",
       "</style>\n",
       "<table border=\"1\" class=\"dataframe\">\n",
       "  <thead>\n",
       "    <tr style=\"text-align: right;\">\n",
       "      <th></th>\n",
       "      <th>0</th>\n",
       "      <th>1</th>\n",
       "    </tr>\n",
       "  </thead>\n",
       "  <tbody>\n",
       "    <tr>\n",
       "      <th>0</th>\n",
       "      <td>danceability</td>\n",
       "      <td>0.105639</td>\n",
       "    </tr>\n",
       "    <tr>\n",
       "      <th>1</th>\n",
       "      <td>energy</td>\n",
       "      <td>0.130210</td>\n",
       "    </tr>\n",
       "    <tr>\n",
       "      <th>2</th>\n",
       "      <td>key</td>\n",
       "      <td>0.052034</td>\n",
       "    </tr>\n",
       "    <tr>\n",
       "      <th>3</th>\n",
       "      <td>loudness</td>\n",
       "      <td>0.098947</td>\n",
       "    </tr>\n",
       "    <tr>\n",
       "      <th>4</th>\n",
       "      <td>acousticness</td>\n",
       "      <td>0.095543</td>\n",
       "    </tr>\n",
       "    <tr>\n",
       "      <th>5</th>\n",
       "      <td>instrumentalness</td>\n",
       "      <td>0.068394</td>\n",
       "    </tr>\n",
       "    <tr>\n",
       "      <th>6</th>\n",
       "      <td>liveness</td>\n",
       "      <td>0.104745</td>\n",
       "    </tr>\n",
       "    <tr>\n",
       "      <th>7</th>\n",
       "      <td>valence</td>\n",
       "      <td>0.124479</td>\n",
       "    </tr>\n",
       "    <tr>\n",
       "      <th>8</th>\n",
       "      <td>tempo</td>\n",
       "      <td>0.099206</td>\n",
       "    </tr>\n",
       "    <tr>\n",
       "      <th>9</th>\n",
       "      <td>is_group</td>\n",
       "      <td>0.005834</td>\n",
       "    </tr>\n",
       "    <tr>\n",
       "      <th>10</th>\n",
       "      <td>gender_male</td>\n",
       "      <td>0.114968</td>\n",
       "    </tr>\n",
       "  </tbody>\n",
       "</table>\n",
       "</div>"
      ],
      "text/plain": [
       "                   0         1\n",
       "0       danceability  0.105639\n",
       "1             energy  0.130210\n",
       "2                key  0.052034\n",
       "3           loudness  0.098947\n",
       "4       acousticness  0.095543\n",
       "5   instrumentalness  0.068394\n",
       "6           liveness  0.104745\n",
       "7            valence  0.124479\n",
       "8              tempo  0.099206\n",
       "9           is_group  0.005834\n",
       "10       gender_male  0.114968"
      ]
     },
     "execution_count": 190,
     "metadata": {},
     "output_type": "execute_result"
    }
   ],
   "source": [
    "pd.DataFrame(list(zip(feature_cols,rf_model_optimal.feature_importances_)))"
   ]
  },
  {
   "cell_type": "markdown",
   "metadata": {},
   "source": [
    "## Bringing in a new song to predict"
   ]
  },
  {
   "cell_type": "code",
   "execution_count": 191,
   "metadata": {},
   "outputs": [
    {
     "data": {
      "text/plain": [
       "[{'danceability': 0.462,\n",
       "  'energy': 0.512,\n",
       "  'key': 9,\n",
       "  'loudness': -5.443,\n",
       "  'mode': 1,\n",
       "  'speechiness': 0.0334,\n",
       "  'acousticness': 0.478,\n",
       "  'instrumentalness': 0,\n",
       "  'liveness': 0.0993,\n",
       "  'valence': 0.29,\n",
       "  'tempo': 114.014,\n",
       "  'type': 'audio_features',\n",
       "  'id': '1s71G3V7XQaVo5IOR6gLbp',\n",
       "  'uri': 'spotify:track:1s71G3V7XQaVo5IOR6gLbp',\n",
       "  'track_href': 'https://api.spotify.com/v1/tracks/1s71G3V7XQaVo5IOR6gLbp',\n",
       "  'analysis_url': 'https://api.spotify.com/v1/audio-analysis/1s71G3V7XQaVo5IOR6gLbp',\n",
       "  'duration_ms': 167796,\n",
       "  'time_signature': 4}]"
      ]
     },
     "execution_count": 191,
     "metadata": {},
     "output_type": "execute_result"
    }
   ],
   "source": [
    "#Pull audio features for Homecoming Queen by Kelsea Ballerini\n",
    "\n",
    "sp.audio_features(tracks=['spotify:track:1s71G3V7XQaVo5IOR6gLbp'])"
   ]
  },
  {
   "cell_type": "code",
   "execution_count": 192,
   "metadata": {},
   "outputs": [],
   "source": [
    "# Audio Features for Homecoming Queen by Kelsea Ballerini\n",
    "\n",
    "danceability=.462\n",
    "energy=.512\n",
    "key=9\n",
    "loudness=-5.443\n",
    "acousticness=.478\n",
    "instrumentalness=0\n",
    "liveness=.0993\n",
    "valence=.29\n",
    "tempo=114.014\n",
    "is_group=0\n",
    "gender_male=0\n",
    "gender_female=1"
   ]
  },
  {
   "cell_type": "code",
   "execution_count": 194,
   "metadata": {},
   "outputs": [
    {
     "name": "stdout",
     "output_type": "stream",
     "text": [
      "[30.19720448]\n"
     ]
    }
   ],
   "source": [
    "print(rf_model_optimal.predict(np.array([danceability, energy, key, loudness, acousticness, instrumentalness, liveness, valence, tempo, is_group, gender_male]).reshape(1,-1)))"
   ]
  },
  {
   "cell_type": "code",
   "execution_count": 195,
   "metadata": {},
   "outputs": [
    {
     "data": {
      "text/plain": [
       "[{'danceability': 0.523,\n",
       "  'energy': 0.699,\n",
       "  'key': 4,\n",
       "  'loudness': -7.952,\n",
       "  'mode': 1,\n",
       "  'speechiness': 0.032,\n",
       "  'acousticness': 0.376,\n",
       "  'instrumentalness': 9.01e-06,\n",
       "  'liveness': 0.234,\n",
       "  'valence': 0.198,\n",
       "  'tempo': 83.014,\n",
       "  'type': 'audio_features',\n",
       "  'id': '0aqO107zsXsc7IQgTsUVhH',\n",
       "  'uri': 'spotify:track:0aqO107zsXsc7IQgTsUVhH',\n",
       "  'track_href': 'https://api.spotify.com/v1/tracks/0aqO107zsXsc7IQgTsUVhH',\n",
       "  'analysis_url': 'https://api.spotify.com/v1/audio-analysis/0aqO107zsXsc7IQgTsUVhH',\n",
       "  'duration_ms': 213108,\n",
       "  'time_signature': 4}]"
      ]
     },
     "execution_count": 195,
     "metadata": {},
     "output_type": "execute_result"
    }
   ],
   "source": [
    "#Pull audio features for I'll Be the Moon by Ryan Hurd\n",
    "\n",
    "sp.audio_features(tracks=['spotify:track:0aqO107zsXsc7IQgTsUVhH'])"
   ]
  },
  {
   "cell_type": "code",
   "execution_count": 196,
   "metadata": {},
   "outputs": [],
   "source": [
    "# Audio Features for I'll Be the Moon by Ryan Hurd\n",
    "\n",
    "danceability=.523\n",
    "energy=.699\n",
    "key=4\n",
    "loudness=-7.952\n",
    "acousticness=.376\n",
    "instrumentalness=9.01e-06\n",
    "liveness=.234\n",
    "valence=.198\n",
    "tempo=83.014\n",
    "is_group=0\n",
    "gender_male=1\n",
    "gender_female=0"
   ]
  },
  {
   "cell_type": "code",
   "execution_count": 197,
   "metadata": {},
   "outputs": [
    {
     "name": "stdout",
     "output_type": "stream",
     "text": [
      "[24.70039803]\n"
     ]
    }
   ],
   "source": [
    "print(rf_model_optimal.predict(np.array([danceability, energy, key, loudness, acousticness, instrumentalness, liveness, valence, tempo, is_group, gender_male]).reshape(1,-1)))"
   ]
  },
  {
   "cell_type": "code",
   "execution_count": 198,
   "metadata": {},
   "outputs": [],
   "source": [
    "current_chart = billboard.ChartData('country-airplay')"
   ]
  },
  {
   "cell_type": "code",
   "execution_count": 199,
   "metadata": {},
   "outputs": [
    {
     "data": {
      "text/plain": [
       "billboard.ChartEntry(title='Prayed For You', artist='Matt Stell')"
      ]
     },
     "execution_count": 199,
     "metadata": {},
     "output_type": "execute_result"
    }
   ],
   "source": [
    "current_chart[0]"
   ]
  },
  {
   "cell_type": "code",
   "execution_count": 200,
   "metadata": {},
   "outputs": [
    {
     "data": {
      "text/plain": [
       "[{'danceability': 0.595,\n",
       "  'energy': 0.698,\n",
       "  'key': 9,\n",
       "  'loudness': -5.836,\n",
       "  'mode': 1,\n",
       "  'speechiness': 0.0361,\n",
       "  'acousticness': 0.0851,\n",
       "  'instrumentalness': 0,\n",
       "  'liveness': 0.106,\n",
       "  'valence': 0.518,\n",
       "  'tempo': 140.035,\n",
       "  'type': 'audio_features',\n",
       "  'id': '1cmnChE57SpRJR2oFNcTpv',\n",
       "  'uri': 'spotify:track:1cmnChE57SpRJR2oFNcTpv',\n",
       "  'track_href': 'https://api.spotify.com/v1/tracks/1cmnChE57SpRJR2oFNcTpv',\n",
       "  'analysis_url': 'https://api.spotify.com/v1/audio-analysis/1cmnChE57SpRJR2oFNcTpv',\n",
       "  'duration_ms': 210373,\n",
       "  'time_signature': 4}]"
      ]
     },
     "execution_count": 200,
     "metadata": {},
     "output_type": "execute_result"
    }
   ],
   "source": [
    "#Pull audio features for Prayed for You by Matt Stell\n",
    "\n",
    "sp.audio_features(tracks=['spotify:track:1cmnChE57SpRJR2oFNcTpv'])"
   ]
  },
  {
   "cell_type": "code",
   "execution_count": 201,
   "metadata": {},
   "outputs": [],
   "source": [
    "# Audio Features for Prayed for You by Matt Stell\n",
    "\n",
    "danceability=.595\n",
    "energy=.698\n",
    "key=9\n",
    "loudness=-5.836\n",
    "acousticness=.0851\n",
    "instrumentalness=0\n",
    "liveness=.106\n",
    "valence=.518\n",
    "tempo=140.035\n",
    "is_group=0\n",
    "gender_male=1\n",
    "gender_female=0"
   ]
  },
  {
   "cell_type": "code",
   "execution_count": 202,
   "metadata": {},
   "outputs": [
    {
     "name": "stdout",
     "output_type": "stream",
     "text": [
      "[21.18939892]\n"
     ]
    }
   ],
   "source": [
    "print(rf_model_optimal.predict(np.array([danceability, energy, key, loudness, acousticness, instrumentalness, liveness, valence, tempo, is_group, gender_male]).reshape(1,-1)))"
   ]
  },
  {
   "cell_type": "code",
   "execution_count": null,
   "metadata": {},
   "outputs": [],
   "source": []
  }
 ],
 "metadata": {
  "kernelspec": {
   "display_name": "Python 3",
   "language": "python",
   "name": "python3"
  },
  "language_info": {
   "codemirror_mode": {
    "name": "ipython",
    "version": 3
   },
   "file_extension": ".py",
   "mimetype": "text/x-python",
   "name": "python",
   "nbconvert_exporter": "python",
   "pygments_lexer": "ipython3",
   "version": "3.7.3"
  }
 },
 "nbformat": 4,
 "nbformat_minor": 2
}
